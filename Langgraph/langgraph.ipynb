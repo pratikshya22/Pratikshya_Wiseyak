{
  "cells": [
    {
      "cell_type": "markdown",
      "metadata": {
        "id": "e34DNnF9pEaT"
      },
      "source": [
        "# **Chatbot with Langgraph**"
      ]
    },
    {
      "cell_type": "code",
      "execution_count": 8,
      "metadata": {
        "colab": {
          "base_uri": "https://localhost:8080/"
        },
        "id": "_q5ZqWquo8jL",
        "outputId": "d5f7b57d-a63d-4792-951c-ddecc4801d33"
      },
      "outputs": [
        {
          "name": "stdout",
          "output_type": "stream",
          "text": [
            "Requirement already satisfied: langgraph in c:\\users\\hp\\miniconda3\\envs\\sunway\\lib\\site-packages (0.2.68)\n",
            "Requirement already satisfied: langsmith in c:\\users\\hp\\miniconda3\\envs\\sunway\\lib\\site-packages (0.3.2)\n",
            "Requirement already satisfied: langchain-core!=0.3.0,!=0.3.1,!=0.3.10,!=0.3.11,!=0.3.12,!=0.3.13,!=0.3.14,!=0.3.15,!=0.3.16,!=0.3.17,!=0.3.18,!=0.3.19,!=0.3.2,!=0.3.20,!=0.3.21,!=0.3.22,!=0.3.3,!=0.3.4,!=0.3.5,!=0.3.6,!=0.3.7,!=0.3.8,!=0.3.9,<0.4.0,>=0.2.43 in c:\\users\\hp\\miniconda3\\envs\\sunway\\lib\\site-packages (from langgraph) (0.3.33)\n",
            "Requirement already satisfied: langgraph-checkpoint<3.0.0,>=2.0.10 in c:\\users\\hp\\miniconda3\\envs\\sunway\\lib\\site-packages (from langgraph) (2.0.10)\n",
            "Requirement already satisfied: langgraph-sdk<0.2.0,>=0.1.42 in c:\\users\\hp\\miniconda3\\envs\\sunway\\lib\\site-packages (from langgraph) (0.1.51)\n",
            "Requirement already satisfied: httpx<1,>=0.23.0 in c:\\users\\hp\\miniconda3\\envs\\sunway\\lib\\site-packages (from langsmith) (0.27.0)\n",
            "Requirement already satisfied: orjson<4.0.0,>=3.9.14 in c:\\users\\hp\\miniconda3\\envs\\sunway\\lib\\site-packages (from langsmith) (3.10.15)\n",
            "Requirement already satisfied: pydantic<3,>=1 in c:\\users\\hp\\miniconda3\\envs\\sunway\\lib\\site-packages (from langsmith) (2.10.6)\n",
            "Requirement already satisfied: requests<3,>=2 in c:\\users\\hp\\miniconda3\\envs\\sunway\\lib\\site-packages (from langsmith) (2.32.3)\n",
            "Requirement already satisfied: requests-toolbelt<2.0.0,>=1.0.0 in c:\\users\\hp\\miniconda3\\envs\\sunway\\lib\\site-packages (from langsmith) (1.0.0)\n",
            "Requirement already satisfied: zstandard<0.24.0,>=0.23.0 in c:\\users\\hp\\miniconda3\\envs\\sunway\\lib\\site-packages (from langsmith) (0.23.0)\n",
            "Requirement already satisfied: anyio in c:\\users\\hp\\miniconda3\\envs\\sunway\\lib\\site-packages (from httpx<1,>=0.23.0->langsmith) (4.6.2)\n",
            "Requirement already satisfied: certifi in c:\\users\\hp\\miniconda3\\envs\\sunway\\lib\\site-packages (from httpx<1,>=0.23.0->langsmith) (2024.12.14)\n",
            "Requirement already satisfied: httpcore==1.* in c:\\users\\hp\\miniconda3\\envs\\sunway\\lib\\site-packages (from httpx<1,>=0.23.0->langsmith) (1.0.2)\n",
            "Requirement already satisfied: idna in c:\\users\\hp\\miniconda3\\envs\\sunway\\lib\\site-packages (from httpx<1,>=0.23.0->langsmith) (3.7)\n",
            "Requirement already satisfied: sniffio in c:\\users\\hp\\miniconda3\\envs\\sunway\\lib\\site-packages (from httpx<1,>=0.23.0->langsmith) (1.3.0)\n",
            "Requirement already satisfied: h11<0.15,>=0.13 in c:\\users\\hp\\miniconda3\\envs\\sunway\\lib\\site-packages (from httpcore==1.*->httpx<1,>=0.23.0->langsmith) (0.14.0)\n",
            "Requirement already satisfied: PyYAML>=5.3 in c:\\users\\hp\\miniconda3\\envs\\sunway\\lib\\site-packages (from langchain-core!=0.3.0,!=0.3.1,!=0.3.10,!=0.3.11,!=0.3.12,!=0.3.13,!=0.3.14,!=0.3.15,!=0.3.16,!=0.3.17,!=0.3.18,!=0.3.19,!=0.3.2,!=0.3.20,!=0.3.21,!=0.3.22,!=0.3.3,!=0.3.4,!=0.3.5,!=0.3.6,!=0.3.7,!=0.3.8,!=0.3.9,<0.4.0,>=0.2.43->langgraph) (6.0.2)\n",
            "Requirement already satisfied: jsonpatch<2.0,>=1.33 in c:\\users\\hp\\miniconda3\\envs\\sunway\\lib\\site-packages (from langchain-core!=0.3.0,!=0.3.1,!=0.3.10,!=0.3.11,!=0.3.12,!=0.3.13,!=0.3.14,!=0.3.15,!=0.3.16,!=0.3.17,!=0.3.18,!=0.3.19,!=0.3.2,!=0.3.20,!=0.3.21,!=0.3.22,!=0.3.3,!=0.3.4,!=0.3.5,!=0.3.6,!=0.3.7,!=0.3.8,!=0.3.9,<0.4.0,>=0.2.43->langgraph) (1.33)\n",
            "Requirement already satisfied: packaging<25,>=23.2 in c:\\users\\hp\\miniconda3\\envs\\sunway\\lib\\site-packages (from langchain-core!=0.3.0,!=0.3.1,!=0.3.10,!=0.3.11,!=0.3.12,!=0.3.13,!=0.3.14,!=0.3.15,!=0.3.16,!=0.3.17,!=0.3.18,!=0.3.19,!=0.3.2,!=0.3.20,!=0.3.21,!=0.3.22,!=0.3.3,!=0.3.4,!=0.3.5,!=0.3.6,!=0.3.7,!=0.3.8,!=0.3.9,<0.4.0,>=0.2.43->langgraph) (24.2)\n",
            "Requirement already satisfied: tenacity!=8.4.0,<10.0.0,>=8.1.0 in c:\\users\\hp\\miniconda3\\envs\\sunway\\lib\\site-packages (from langchain-core!=0.3.0,!=0.3.1,!=0.3.10,!=0.3.11,!=0.3.12,!=0.3.13,!=0.3.14,!=0.3.15,!=0.3.16,!=0.3.17,!=0.3.18,!=0.3.19,!=0.3.2,!=0.3.20,!=0.3.21,!=0.3.22,!=0.3.3,!=0.3.4,!=0.3.5,!=0.3.6,!=0.3.7,!=0.3.8,!=0.3.9,<0.4.0,>=0.2.43->langgraph) (9.0.0)\n",
            "Requirement already satisfied: typing-extensions>=4.7 in c:\\users\\hp\\miniconda3\\envs\\sunway\\lib\\site-packages (from langchain-core!=0.3.0,!=0.3.1,!=0.3.10,!=0.3.11,!=0.3.12,!=0.3.13,!=0.3.14,!=0.3.15,!=0.3.16,!=0.3.17,!=0.3.18,!=0.3.19,!=0.3.2,!=0.3.20,!=0.3.21,!=0.3.22,!=0.3.3,!=0.3.4,!=0.3.5,!=0.3.6,!=0.3.7,!=0.3.8,!=0.3.9,<0.4.0,>=0.2.43->langgraph) (4.12.2)\n",
            "Requirement already satisfied: msgpack<2.0.0,>=1.1.0 in c:\\users\\hp\\miniconda3\\envs\\sunway\\lib\\site-packages (from langgraph-checkpoint<3.0.0,>=2.0.10->langgraph) (1.1.0)\n",
            "Requirement already satisfied: annotated-types>=0.6.0 in c:\\users\\hp\\miniconda3\\envs\\sunway\\lib\\site-packages (from pydantic<3,>=1->langsmith) (0.7.0)\n",
            "Requirement already satisfied: pydantic-core==2.27.2 in c:\\users\\hp\\miniconda3\\envs\\sunway\\lib\\site-packages (from pydantic<3,>=1->langsmith) (2.27.2)\n",
            "Requirement already satisfied: charset-normalizer<4,>=2 in c:\\users\\hp\\miniconda3\\envs\\sunway\\lib\\site-packages (from requests<3,>=2->langsmith) (3.3.2)\n",
            "Requirement already satisfied: urllib3<3,>=1.21.1 in c:\\users\\hp\\miniconda3\\envs\\sunway\\lib\\site-packages (from requests<3,>=2->langsmith) (2.3.0)\n",
            "Requirement already satisfied: jsonpointer>=1.9 in c:\\users\\hp\\miniconda3\\envs\\sunway\\lib\\site-packages (from jsonpatch<2.0,>=1.33->langchain-core!=0.3.0,!=0.3.1,!=0.3.10,!=0.3.11,!=0.3.12,!=0.3.13,!=0.3.14,!=0.3.15,!=0.3.16,!=0.3.17,!=0.3.18,!=0.3.19,!=0.3.2,!=0.3.20,!=0.3.21,!=0.3.22,!=0.3.3,!=0.3.4,!=0.3.5,!=0.3.6,!=0.3.7,!=0.3.8,!=0.3.9,<0.4.0,>=0.2.43->langgraph) (3.0.0)\n"
          ]
        }
      ],
      "source": [
        "!pip install langgraph langsmith"
      ]
    },
    {
      "cell_type": "code",
      "execution_count": 9,
      "metadata": {
        "colab": {
          "base_uri": "https://localhost:8080/"
        },
        "id": "BwV832FlrakH",
        "outputId": "184faf80-ad8a-448b-9201-ad951ed2292d"
      },
      "outputs": [
        {
          "name": "stdout",
          "output_type": "stream",
          "text": [
            "Requirement already satisfied: langchain in c:\\users\\hp\\miniconda3\\envs\\sunway\\lib\\site-packages (0.3.16)\n",
            "Requirement already satisfied: langchain_groq in c:\\users\\hp\\miniconda3\\envs\\sunway\\lib\\site-packages (0.2.4)\n",
            "Requirement already satisfied: langchain_community in c:\\users\\hp\\miniconda3\\envs\\sunway\\lib\\site-packages (0.3.16)\n",
            "Requirement already satisfied: PyYAML>=5.3 in c:\\users\\hp\\miniconda3\\envs\\sunway\\lib\\site-packages (from langchain) (6.0.2)\n",
            "Requirement already satisfied: SQLAlchemy<3,>=1.4 in c:\\users\\hp\\miniconda3\\envs\\sunway\\lib\\site-packages (from langchain) (2.0.37)\n",
            "Requirement already satisfied: aiohttp<4.0.0,>=3.8.3 in c:\\users\\hp\\miniconda3\\envs\\sunway\\lib\\site-packages (from langchain) (3.11.11)\n",
            "Requirement already satisfied: langchain-core<0.4.0,>=0.3.32 in c:\\users\\hp\\miniconda3\\envs\\sunway\\lib\\site-packages (from langchain) (0.3.33)\n",
            "Requirement already satisfied: langchain-text-splitters<0.4.0,>=0.3.3 in c:\\users\\hp\\miniconda3\\envs\\sunway\\lib\\site-packages (from langchain) (0.3.5)\n",
            "Requirement already satisfied: langsmith<0.4,>=0.1.17 in c:\\users\\hp\\miniconda3\\envs\\sunway\\lib\\site-packages (from langchain) (0.3.2)\n",
            "Requirement already satisfied: numpy<2,>=1.22.4 in c:\\users\\hp\\miniconda3\\envs\\sunway\\lib\\site-packages (from langchain) (1.24.4)\n",
            "Requirement already satisfied: pydantic<3.0.0,>=2.7.4 in c:\\users\\hp\\miniconda3\\envs\\sunway\\lib\\site-packages (from langchain) (2.10.6)\n",
            "Requirement already satisfied: requests<3,>=2 in c:\\users\\hp\\miniconda3\\envs\\sunway\\lib\\site-packages (from langchain) (2.32.3)\n",
            "Requirement already satisfied: tenacity!=8.4.0,<10,>=8.1.0 in c:\\users\\hp\\miniconda3\\envs\\sunway\\lib\\site-packages (from langchain) (9.0.0)\n",
            "Requirement already satisfied: groq<1,>=0.4.1 in c:\\users\\hp\\miniconda3\\envs\\sunway\\lib\\site-packages (from langchain_groq) (0.16.0)\n",
            "Requirement already satisfied: dataclasses-json<0.7,>=0.5.7 in c:\\users\\hp\\miniconda3\\envs\\sunway\\lib\\site-packages (from langchain_community) (0.6.7)\n",
            "Requirement already satisfied: httpx-sse<0.5.0,>=0.4.0 in c:\\users\\hp\\miniconda3\\envs\\sunway\\lib\\site-packages (from langchain_community) (0.4.0)\n",
            "Requirement already satisfied: pydantic-settings<3.0.0,>=2.4.0 in c:\\users\\hp\\miniconda3\\envs\\sunway\\lib\\site-packages (from langchain_community) (2.7.1)\n",
            "Requirement already satisfied: aiohappyeyeballs>=2.3.0 in c:\\users\\hp\\miniconda3\\envs\\sunway\\lib\\site-packages (from aiohttp<4.0.0,>=3.8.3->langchain) (2.4.4)\n",
            "Requirement already satisfied: aiosignal>=1.1.2 in c:\\users\\hp\\miniconda3\\envs\\sunway\\lib\\site-packages (from aiohttp<4.0.0,>=3.8.3->langchain) (1.3.2)\n",
            "Requirement already satisfied: attrs>=17.3.0 in c:\\users\\hp\\miniconda3\\envs\\sunway\\lib\\site-packages (from aiohttp<4.0.0,>=3.8.3->langchain) (24.3.0)\n",
            "Requirement already satisfied: frozenlist>=1.1.1 in c:\\users\\hp\\miniconda3\\envs\\sunway\\lib\\site-packages (from aiohttp<4.0.0,>=3.8.3->langchain) (1.5.0)\n",
            "Requirement already satisfied: multidict<7.0,>=4.5 in c:\\users\\hp\\miniconda3\\envs\\sunway\\lib\\site-packages (from aiohttp<4.0.0,>=3.8.3->langchain) (6.1.0)\n",
            "Requirement already satisfied: propcache>=0.2.0 in c:\\users\\hp\\miniconda3\\envs\\sunway\\lib\\site-packages (from aiohttp<4.0.0,>=3.8.3->langchain) (0.2.1)\n",
            "Requirement already satisfied: yarl<2.0,>=1.17.0 in c:\\users\\hp\\miniconda3\\envs\\sunway\\lib\\site-packages (from aiohttp<4.0.0,>=3.8.3->langchain) (1.18.3)\n",
            "Requirement already satisfied: marshmallow<4.0.0,>=3.18.0 in c:\\users\\hp\\miniconda3\\envs\\sunway\\lib\\site-packages (from dataclasses-json<0.7,>=0.5.7->langchain_community) (3.26.0)\n",
            "Requirement already satisfied: typing-inspect<1,>=0.4.0 in c:\\users\\hp\\miniconda3\\envs\\sunway\\lib\\site-packages (from dataclasses-json<0.7,>=0.5.7->langchain_community) (0.9.0)\n",
            "Requirement already satisfied: anyio<5,>=3.5.0 in c:\\users\\hp\\miniconda3\\envs\\sunway\\lib\\site-packages (from groq<1,>=0.4.1->langchain_groq) (4.6.2)\n",
            "Requirement already satisfied: distro<2,>=1.7.0 in c:\\users\\hp\\miniconda3\\envs\\sunway\\lib\\site-packages (from groq<1,>=0.4.1->langchain_groq) (1.9.0)\n",
            "Requirement already satisfied: httpx<1,>=0.23.0 in c:\\users\\hp\\miniconda3\\envs\\sunway\\lib\\site-packages (from groq<1,>=0.4.1->langchain_groq) (0.27.0)\n",
            "Requirement already satisfied: sniffio in c:\\users\\hp\\miniconda3\\envs\\sunway\\lib\\site-packages (from groq<1,>=0.4.1->langchain_groq) (1.3.0)\n",
            "Requirement already satisfied: typing-extensions<5,>=4.10 in c:\\users\\hp\\miniconda3\\envs\\sunway\\lib\\site-packages (from groq<1,>=0.4.1->langchain_groq) (4.12.2)\n",
            "Requirement already satisfied: jsonpatch<2.0,>=1.33 in c:\\users\\hp\\miniconda3\\envs\\sunway\\lib\\site-packages (from langchain-core<0.4.0,>=0.3.32->langchain) (1.33)\n",
            "Requirement already satisfied: packaging<25,>=23.2 in c:\\users\\hp\\miniconda3\\envs\\sunway\\lib\\site-packages (from langchain-core<0.4.0,>=0.3.32->langchain) (24.2)\n",
            "Requirement already satisfied: orjson<4.0.0,>=3.9.14 in c:\\users\\hp\\miniconda3\\envs\\sunway\\lib\\site-packages (from langsmith<0.4,>=0.1.17->langchain) (3.10.15)\n",
            "Requirement already satisfied: requests-toolbelt<2.0.0,>=1.0.0 in c:\\users\\hp\\miniconda3\\envs\\sunway\\lib\\site-packages (from langsmith<0.4,>=0.1.17->langchain) (1.0.0)\n",
            "Requirement already satisfied: zstandard<0.24.0,>=0.23.0 in c:\\users\\hp\\miniconda3\\envs\\sunway\\lib\\site-packages (from langsmith<0.4,>=0.1.17->langchain) (0.23.0)\n",
            "Requirement already satisfied: annotated-types>=0.6.0 in c:\\users\\hp\\miniconda3\\envs\\sunway\\lib\\site-packages (from pydantic<3.0.0,>=2.7.4->langchain) (0.7.0)\n",
            "Requirement already satisfied: pydantic-core==2.27.2 in c:\\users\\hp\\miniconda3\\envs\\sunway\\lib\\site-packages (from pydantic<3.0.0,>=2.7.4->langchain) (2.27.2)\n",
            "Requirement already satisfied: python-dotenv>=0.21.0 in c:\\users\\hp\\miniconda3\\envs\\sunway\\lib\\site-packages (from pydantic-settings<3.0.0,>=2.4.0->langchain_community) (1.0.1)\n",
            "Requirement already satisfied: charset-normalizer<4,>=2 in c:\\users\\hp\\miniconda3\\envs\\sunway\\lib\\site-packages (from requests<3,>=2->langchain) (3.3.2)\n",
            "Requirement already satisfied: idna<4,>=2.5 in c:\\users\\hp\\miniconda3\\envs\\sunway\\lib\\site-packages (from requests<3,>=2->langchain) (3.7)\n",
            "Requirement already satisfied: urllib3<3,>=1.21.1 in c:\\users\\hp\\miniconda3\\envs\\sunway\\lib\\site-packages (from requests<3,>=2->langchain) (2.3.0)\n",
            "Requirement already satisfied: certifi>=2017.4.17 in c:\\users\\hp\\miniconda3\\envs\\sunway\\lib\\site-packages (from requests<3,>=2->langchain) (2024.12.14)\n",
            "Requirement already satisfied: greenlet!=0.4.17 in c:\\users\\hp\\miniconda3\\envs\\sunway\\lib\\site-packages (from SQLAlchemy<3,>=1.4->langchain) (3.1.1)\n",
            "Requirement already satisfied: httpcore==1.* in c:\\users\\hp\\miniconda3\\envs\\sunway\\lib\\site-packages (from httpx<1,>=0.23.0->groq<1,>=0.4.1->langchain_groq) (1.0.2)\n",
            "Requirement already satisfied: h11<0.15,>=0.13 in c:\\users\\hp\\miniconda3\\envs\\sunway\\lib\\site-packages (from httpcore==1.*->httpx<1,>=0.23.0->groq<1,>=0.4.1->langchain_groq) (0.14.0)\n",
            "Requirement already satisfied: jsonpointer>=1.9 in c:\\users\\hp\\miniconda3\\envs\\sunway\\lib\\site-packages (from jsonpatch<2.0,>=1.33->langchain-core<0.4.0,>=0.3.32->langchain) (3.0.0)\n",
            "Requirement already satisfied: mypy-extensions>=0.3.0 in c:\\users\\hp\\miniconda3\\envs\\sunway\\lib\\site-packages (from typing-inspect<1,>=0.4.0->dataclasses-json<0.7,>=0.5.7->langchain_community) (1.0.0)\n"
          ]
        }
      ],
      "source": [
        "!pip install langchain langchain_groq langchain_community"
      ]
    },
    {
      "cell_type": "code",
      "execution_count": 10,
      "metadata": {
        "id": "eJvwvqsSr-O7"
      },
      "outputs": [
        {
          "ename": "ModuleNotFoundError",
          "evalue": "No module named 'google.colab'",
          "output_type": "error",
          "traceback": [
            "\u001b[1;31m---------------------------------------------------------------------------\u001b[0m",
            "\u001b[1;31mModuleNotFoundError\u001b[0m                       Traceback (most recent call last)",
            "Cell \u001b[1;32mIn[10], line 1\u001b[0m\n\u001b[1;32m----> 1\u001b[0m \u001b[38;5;28;01mfrom\u001b[39;00m \u001b[38;5;21;01mgoogle\u001b[39;00m\u001b[38;5;21;01m.\u001b[39;00m\u001b[38;5;21;01mcolab\u001b[39;00m \u001b[38;5;28;01mimport\u001b[39;00m userdata\n\u001b[0;32m      2\u001b[0m groq_api_key \u001b[38;5;241m=\u001b[39m userdata\u001b[38;5;241m.\u001b[39mget(\u001b[38;5;124m'\u001b[39m\u001b[38;5;124mgroq_api_key\u001b[39m\u001b[38;5;124m'\u001b[39m)\n\u001b[0;32m      4\u001b[0m langsmith \u001b[38;5;241m=\u001b[39m userdata\u001b[38;5;241m.\u001b[39mget(\u001b[38;5;124m'\u001b[39m\u001b[38;5;124mlangsmith_api_key\u001b[39m\u001b[38;5;124m'\u001b[39m)\n",
            "\u001b[1;31mModuleNotFoundError\u001b[0m: No module named 'google.colab'"
          ]
        }
      ],
      "source": [
        "from google.colab import userdata\n",
        "groq_api_key = userdata.get('groq_api_key')\n",
        "\n",
        "langsmith = userdata.get('langsmith_api_key')"
      ]
    },
    {
      "cell_type": "code",
      "execution_count": 10,
      "metadata": {
        "id": "JVYbyAcfsI1N"
      },
      "outputs": [],
      "source": [
        "import os\n",
        "os.environ[\"LANGCHAIN_API_KEY\"] = langsmith\n",
        "os.environ[\"LANGCHAIN_TRACING_V2\"] = \"true\"\n",
        "os.environ[\"LANGCHAIN_PROJECT\"] = \"CourseLanggraph\""
      ]
    },
    {
      "cell_type": "code",
      "execution_count": 11,
      "metadata": {
        "id": "beSE5DWn4WH-"
      },
      "outputs": [],
      "source": [
        "from langchain_groq import ChatGroq"
      ]
    },
    {
      "cell_type": "code",
      "execution_count": null,
      "metadata": {
        "colab": {
          "base_uri": "https://localhost:8080/"
        },
        "id": "pgn3JFYq4mOc",
        "outputId": "3a5a8e6d-10d1-4741-d216-807de3034cc7"
      },
      "outputs": [
        {
          "ename": "NameError",
          "evalue": "name 'ChatGroq' is not defined",
          "output_type": "error",
          "traceback": [
            "\u001b[1;31m---------------------------------------------------------------------------\u001b[0m",
            "\u001b[1;31mNameError\u001b[0m                                 Traceback (most recent call last)",
            "Cell \u001b[1;32mIn[1], line 1\u001b[0m\n\u001b[1;32m----> 1\u001b[0m llm \u001b[38;5;241m=\u001b[39m ChatGroq(groq_api_key \u001b[38;5;241m=\u001b[39m groq_api_key, model_name \u001b[38;5;241m=\u001b[39m \u001b[38;5;124m\"\u001b[39m\u001b[38;5;124mGemma2-9b-It\u001b[39m\u001b[38;5;124m\"\u001b[39m)\n",
            "\u001b[1;31mNameError\u001b[0m: name 'ChatGroq' is not defined"
          ]
        }
      ],
      "source": [
        "llm = ChatGroq(groq_api_key = groq_api_key, model_name = \"Gemma2-9b-It\")"
      ]
    },
    {
      "cell_type": "markdown",
      "metadata": {
        "id": "2BhfqZVQ5Zhh"
      },
      "source": [
        "## Start Building Chatbot Using Langgraph"
      ]
    },
    {
      "cell_type": "code",
      "execution_count": 15,
      "metadata": {
        "id": "alZOjiuT5TFg"
      },
      "outputs": [],
      "source": [
        "from typing import Annotated\n",
        "from typing_extensions import TypedDict\n",
        "from langgraph.graph import StateGraph, START, END\n",
        "from langgraph.graph.message import add_messages"
      ]
    },
    {
      "cell_type": "code",
      "execution_count": 17,
      "metadata": {
        "id": "NqQYFzxC6ZJc"
      },
      "outputs": [],
      "source": [
        "class State(TypedDict):\n",
        "  # Messages have the type \"list\". The 'add_messages' function\n",
        "    # in the annotation defines how this state key should be updated\n",
        "    # (in this case, it appends the messages to the list, rather than overwriting them)\n",
        "  messages : Annotated[list, add_messages]\n",
        "\n",
        "graph_builder = StateGraph(State)"
      ]
    },
    {
      "cell_type": "code",
      "execution_count": 19,
      "metadata": {
        "id": "uxh9h8y37p-g"
      },
      "outputs": [],
      "source": [
        "def chatbot(state : State):\n",
        "  return {\"messages\": llm.invoke(state['messages'])}"
      ]
    },
    {
      "cell_type": "code",
      "execution_count": 20,
      "metadata": {
        "colab": {
          "base_uri": "https://localhost:8080/"
        },
        "id": "YVkwUxzp8Jor",
        "outputId": "77948254-bb6d-4015-ac04-56df6fbf8bd2"
      },
      "outputs": [
        {
          "data": {
            "text/plain": [
              "<langgraph.graph.state.StateGraph at 0x7f20ae294650>"
            ]
          },
          "execution_count": 20,
          "metadata": {},
          "output_type": "execute_result"
        }
      ],
      "source": [
        "graph_builder.add_node(\"chatbot\", chatbot)"
      ]
    },
    {
      "cell_type": "code",
      "execution_count": 21,
      "metadata": {
        "colab": {
          "base_uri": "https://localhost:8080/"
        },
        "id": "igJbIYJs8PLT",
        "outputId": "d3bae2a9-48a3-4a67-974c-0df5afbddc21"
      },
      "outputs": [
        {
          "data": {
            "text/plain": [
              "<langgraph.graph.state.StateGraph at 0x7f20ae294650>"
            ]
          },
          "execution_count": 21,
          "metadata": {},
          "output_type": "execute_result"
        }
      ],
      "source": [
        "graph_builder"
      ]
    },
    {
      "cell_type": "code",
      "execution_count": 22,
      "metadata": {
        "colab": {
          "base_uri": "https://localhost:8080/"
        },
        "id": "UWIslm0o8R5x",
        "outputId": "68b09aaf-2dca-40e2-8412-2a5e0655ce2b"
      },
      "outputs": [
        {
          "data": {
            "text/plain": [
              "<langgraph.graph.state.StateGraph at 0x7f20ae294650>"
            ]
          },
          "execution_count": 22,
          "metadata": {},
          "output_type": "execute_result"
        }
      ],
      "source": [
        "graph_builder.add_edge(START, \"chatbot\")\n",
        "graph_builder.add_edge(\"chatbot\", END)"
      ]
    },
    {
      "cell_type": "code",
      "execution_count": 23,
      "metadata": {
        "colab": {
          "base_uri": "https://localhost:8080/",
          "height": 251
        },
        "id": "Q_Ha39rN8xMF",
        "outputId": "e3f4dad8-54dc-4f9f-80e2-2c5e187714f2"
      },
      "outputs": [
        {
          "data": {
            "image/png": "[encoded data removed]",
            "text/plain": [
              "<langgraph.graph.state.CompiledStateGraph object at 0x7f20addc42d0>"
            ]
          },
          "execution_count": 23,
          "metadata": {},
          "output_type": "execute_result"
        }
      ],
      "source": [
        "graph = graph_builder.compile()\n",
        "graph"
      ]
    },
    {
      "cell_type": "code",
      "execution_count": 24,
      "metadata": {
        "colab": {
          "base_uri": "https://localhost:8080/"
        },
        "id": "r5g3BEoR84ag",
        "outputId": "e32f4f1e-b35c-48fb-ce80-c82e09e7ce37"
      },
      "outputs": [
        {
          "name": "stdout",
          "output_type": "stream",
          "text": [
            "User: hello\n",
            "dict_values([{'messages': AIMessage(content='Hello! 👋\\n\\nHow can I help you today?\\n', additional_kwargs={}, response_metadata={'token_usage': {'completion_tokens': 14, 'prompt_tokens': 10, 'total_tokens': 24, 'completion_time': 0.025454545, 'prompt_time': 3.9e-07, 'queue_time': 0.025065590000000002, 'total_time': 0.025454935}, 'model_name': 'Gemma2-9b-It', 'system_fingerprint': 'fp_10c08bf97d', 'finish_reason': 'stop', 'logprobs': None}, id='run-7e1dceac-c618-496d-a7ba-615b3da12a14-0', usage_metadata={'input_tokens': 10, 'output_tokens': 14, 'total_tokens': 24})}])\n",
            "content='Hello! 👋\\n\\nHow can I help you today?\\n' additional_kwargs={} response_metadata={'token_usage': {'completion_tokens': 14, 'prompt_tokens': 10, 'total_tokens': 24, 'completion_time': 0.025454545, 'prompt_time': 3.9e-07, 'queue_time': 0.025065590000000002, 'total_time': 0.025454935}, 'model_name': 'Gemma2-9b-It', 'system_fingerprint': 'fp_10c08bf97d', 'finish_reason': 'stop', 'logprobs': None} id='run-7e1dceac-c618-496d-a7ba-615b3da12a14-0' usage_metadata={'input_tokens': 10, 'output_tokens': 14, 'total_tokens': 24}\n",
            "Assistant: Hello! 👋\n",
            "\n",
            "How can I help you today?\n",
            "\n",
            "User: what is generative AI\n",
            "dict_values([{'messages': AIMessage(content=\"Generative AI is a type of artificial intelligence that focuses on **creating new content**. \\n\\nThink of it like this: instead of simply analyzing existing data, generative AI learns the underlying patterns and structures within that data, and then uses that knowledge to generate brand new outputs.\\n\\nHere are some key things to know about generative AI:\\n\\n* **What it creates:** Generative AI can create a wide range of content, including:\\n    * **Text:** Stories, poems, articles, dialogue, code\\n    * **Images:** Photos, artwork, illustrations\\n    * **Audio:** Music, sound effects, speech\\n    * **Video:** Animations, short films\\n    * **3D models:** Objects, environments\\n\\n* **How it works:** Generative AI models are typically trained on massive datasets of existing content. This allows them to learn the statistical relationships between different elements within that content. Once trained, they can use this knowledge to generate new content that adheres to the same patterns and structures.\\n\\n* **Examples:** Some popular examples of generative AI include:\\n    * **DALL-E 2:** Creates images from text descriptions\\n    * **ChatGPT:** Generates human-like text in response to prompts\\n    * **Jukebox:** Generates music in various styles\\n    * **Stable Diffusion:** Creates images from text prompts\\n\\n* **Applications:** Generative AI has a wide range of potential applications, including:\\n    * **Creative industries:** Writing, art, music, design\\n    * **Marketing and advertising:** Generating personalized content, creating ad campaigns\\n    * **Education:** Creating interactive learning experiences, generating practice problems\\n    * **Research:** Accelerating scientific discovery, generating hypotheses\\n\\n* **Ethical considerations:** As with any powerful technology, generative AI raises ethical concerns, such as:\\n    * **Bias and fairness:** AI models can perpetuate existing biases present in the training data.\\n    * **Misinformation and deepfakes:** The ability to generate realistic content can be used to create convincing fake news or manipulate public opinion.\\n    * **Copyright and ownership:** Who owns the copyright to content generated by AI?\\n\\n\\nGenerative AI is a rapidly evolving field with the potential to revolutionize many aspects of our lives.  It's important to stay informed about its capabilities and potential impacts.\\n\", additional_kwargs={}, response_metadata={'token_usage': {'completion_tokens': 474, 'prompt_tokens': 13, 'total_tokens': 487, 'completion_time': 0.861818182, 'prompt_time': 0.000239399, 'queue_time': 0.020356271, 'total_time': 0.862057581}, 'model_name': 'Gemma2-9b-It', 'system_fingerprint': 'fp_10c08bf97d', 'finish_reason': 'stop', 'logprobs': None}, id='run-9ab12b9f-535c-4308-8dc5-59e0bbcc6d58-0', usage_metadata={'input_tokens': 13, 'output_tokens': 474, 'total_tokens': 487})}])\n",
            "content=\"Generative AI is a type of artificial intelligence that focuses on **creating new content**. \\n\\nThink of it like this: instead of simply analyzing existing data, generative AI learns the underlying patterns and structures within that data, and then uses that knowledge to generate brand new outputs.\\n\\nHere are some key things to know about generative AI:\\n\\n* **What it creates:** Generative AI can create a wide range of content, including:\\n    * **Text:** Stories, poems, articles, dialogue, code\\n    * **Images:** Photos, artwork, illustrations\\n    * **Audio:** Music, sound effects, speech\\n    * **Video:** Animations, short films\\n    * **3D models:** Objects, environments\\n\\n* **How it works:** Generative AI models are typically trained on massive datasets of existing content. This allows them to learn the statistical relationships between different elements within that content. Once trained, they can use this knowledge to generate new content that adheres to the same patterns and structures.\\n\\n* **Examples:** Some popular examples of generative AI include:\\n    * **DALL-E 2:** Creates images from text descriptions\\n    * **ChatGPT:** Generates human-like text in response to prompts\\n    * **Jukebox:** Generates music in various styles\\n    * **Stable Diffusion:** Creates images from text prompts\\n\\n* **Applications:** Generative AI has a wide range of potential applications, including:\\n    * **Creative industries:** Writing, art, music, design\\n    * **Marketing and advertising:** Generating personalized content, creating ad campaigns\\n    * **Education:** Creating interactive learning experiences, generating practice problems\\n    * **Research:** Accelerating scientific discovery, generating hypotheses\\n\\n* **Ethical considerations:** As with any powerful technology, generative AI raises ethical concerns, such as:\\n    * **Bias and fairness:** AI models can perpetuate existing biases present in the training data.\\n    * **Misinformation and deepfakes:** The ability to generate realistic content can be used to create convincing fake news or manipulate public opinion.\\n    * **Copyright and ownership:** Who owns the copyright to content generated by AI?\\n\\n\\nGenerative AI is a rapidly evolving field with the potential to revolutionize many aspects of our lives.  It's important to stay informed about its capabilities and potential impacts.\\n\" additional_kwargs={} response_metadata={'token_usage': {'completion_tokens': 474, 'prompt_tokens': 13, 'total_tokens': 487, 'completion_time': 0.861818182, 'prompt_time': 0.000239399, 'queue_time': 0.020356271, 'total_time': 0.862057581}, 'model_name': 'Gemma2-9b-It', 'system_fingerprint': 'fp_10c08bf97d', 'finish_reason': 'stop', 'logprobs': None} id='run-9ab12b9f-535c-4308-8dc5-59e0bbcc6d58-0' usage_metadata={'input_tokens': 13, 'output_tokens': 474, 'total_tokens': 487}\n",
            "Assistant: Generative AI is a type of artificial intelligence that focuses on **creating new content**. \n",
            "\n",
            "Think of it like this: instead of simply analyzing existing data, generative AI learns the underlying patterns and structures within that data, and then uses that knowledge to generate brand new outputs.\n",
            "\n",
            "Here are some key things to know about generative AI:\n",
            "\n",
            "* **What it creates:** Generative AI can create a wide range of content, including:\n",
            "    * **Text:** Stories, poems, articles, dialogue, code\n",
            "    * **Images:** Photos, artwork, illustrations\n",
            "    * **Audio:** Music, sound effects, speech\n",
            "    * **Video:** Animations, short films\n",
            "    * **3D models:** Objects, environments\n",
            "\n",
            "* **How it works:** Generative AI models are typically trained on massive datasets of existing content. This allows them to learn the statistical relationships between different elements within that content. Once trained, they can use this knowledge to generate new content that adheres to the same patterns and structures.\n",
            "\n",
            "* **Examples:** Some popular examples of generative AI include:\n",
            "    * **DALL-E 2:** Creates images from text descriptions\n",
            "    * **ChatGPT:** Generates human-like text in response to prompts\n",
            "    * **Jukebox:** Generates music in various styles\n",
            "    * **Stable Diffusion:** Creates images from text prompts\n",
            "\n",
            "* **Applications:** Generative AI has a wide range of potential applications, including:\n",
            "    * **Creative industries:** Writing, art, music, design\n",
            "    * **Marketing and advertising:** Generating personalized content, creating ad campaigns\n",
            "    * **Education:** Creating interactive learning experiences, generating practice problems\n",
            "    * **Research:** Accelerating scientific discovery, generating hypotheses\n",
            "\n",
            "* **Ethical considerations:** As with any powerful technology, generative AI raises ethical concerns, such as:\n",
            "    * **Bias and fairness:** AI models can perpetuate existing biases present in the training data.\n",
            "    * **Misinformation and deepfakes:** The ability to generate realistic content can be used to create convincing fake news or manipulate public opinion.\n",
            "    * **Copyright and ownership:** Who owns the copyright to content generated by AI?\n",
            "\n",
            "\n",
            "Generative AI is a rapidly evolving field with the potential to revolutionize many aspects of our lives.  It's important to stay informed about its capabilities and potential impacts.\n",
            "\n",
            "User: q\n",
            "Good Bye\n"
          ]
        }
      ],
      "source": [
        "while True :\n",
        "  user_input = input(\"User: \")\n",
        "  if user_input.lower() in [\"quit\",\"q\"]:\n",
        "    print(\"Good Bye\")\n",
        "    break\n",
        "  for event in graph.stream({'messages':(\"user\", user_input)}):\n",
        "    print(event.values())\n",
        "    for value in event.values():\n",
        "      print(value['messages'])\n",
        "      print(\"Assistant:\", value[\"messages\"].content)"
      ]
    },
    {
      "cell_type": "code",
      "execution_count": null,
      "metadata": {
        "id": "6jfQrObO-CIl"
      },
      "outputs": [],
      "source": []
    }
  ],
  "metadata": {
    "colab": {
      "provenance": []
    },
    "kernelspec": {
      "display_name": "sunway",
      "language": "python",
      "name": "sunway"
    },
    "language_info": {
      "codemirror_mode": {
        "name": "ipython",
        "version": 3
      },
      "file_extension": ".py",
      "mimetype": "text/x-python",
      "name": "python",
      "nbconvert_exporter": "python",
      "pygments_lexer": "ipython3",
      "version": "3.11.11"
    }
  },
  "nbformat": 4,
  "nbformat_minor": 0
}
